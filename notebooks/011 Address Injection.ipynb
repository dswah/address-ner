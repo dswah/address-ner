{
 "cells": [
  {
   "cell_type": "markdown",
   "id": "1d1532d6",
   "metadata": {},
   "source": [
    "# Plan"
   ]
  },
  {
   "cell_type": "markdown",
   "id": "70f38d0c",
   "metadata": {},
   "source": [
    "OBJECTIVE: we want to train an address NER for German legal text.\n",
    "\n",
    "we will do this by \n",
    "1. cleaning the existing address entity labels\n",
    "2. building a semi-artificial dataset of real german legal documents with machine-generated addresses labeled and randomly placed among the real text\n",
    "\n",
    "we will truncate the legal documents so that the model sees short spans of text.\n",
    "\n",
    "truncation will serve 2 purposes\n",
    "1. greater training speed \n",
    "2. the model is less likely to get conflicting signals from the artificial dataset if we only present a window where we know that there is an address, instead of a whole document where there may be unlabeled addresses\n",
    "\n",
    "we need to design a strategy that places addresses in contexts where they might actually occur naturally:\n",
    "- after line breaks\n",
    "- after periods\n",
    "- randomly inside sentences. this is harder. We can do randomly, or train a classifier to predict a good place to put an address on the subset of addresses that we have label (this is biased).\n",
    "\n",
    "\n"
   ]
  },
  {
   "cell_type": "markdown",
   "id": "f9a7283f",
   "metadata": {},
   "source": [
    "# HF Datasets"
   ]
  },
  {
   "cell_type": "code",
   "execution_count": null,
   "id": "3fbb2beb",
   "metadata": {},
   "outputs": [],
   "source": [
    "from datasets import load_dataset"
   ]
  },
  {
   "cell_type": "code",
   "execution_count": null,
   "id": "7e52f87a",
   "metadata": {},
   "outputs": [],
   "source": [
    "wnut[\"validation\"][\"tokens\"]"
   ]
  },
  {
   "cell_type": "code",
   "execution_count": null,
   "id": "3109d086",
   "metadata": {},
   "outputs": [],
   "source": [
    "wnut[\"train\"][:2].__class__"
   ]
  },
  {
   "cell_type": "code",
   "execution_count": null,
   "id": "f432bf1a",
   "metadata": {},
   "outputs": [],
   "source": [
    "wnut[\"train\"][\"tokens\"].__class__"
   ]
  },
  {
   "cell_type": "code",
   "execution_count": null,
   "id": "e0237692",
   "metadata": {},
   "outputs": [],
   "source": [
    "label_list = wnut[\"train\"].features[f\"ner_tags\"].feature.names\n",
    "label_list"
   ]
  },
  {
   "cell_type": "code",
   "execution_count": null,
   "id": "b652e03c",
   "metadata": {},
   "outputs": [],
   "source": [
    "from transformers import AutoTokenizer\n",
    "\n",
    "tokenizer = AutoTokenizer.from_pretrained(\"distilbert-base-uncased\")"
   ]
  },
  {
   "cell_type": "code",
   "execution_count": null,
   "id": "9e2464c0",
   "metadata": {},
   "outputs": [],
   "source": [
    "example = wnut[\"train\"][0]"
   ]
  },
  {
   "cell_type": "code",
   "execution_count": null,
   "id": "f562aeaf",
   "metadata": {},
   "outputs": [],
   "source": [
    "tokenized_input = tokenizer(example[\"tokens\"], is_split_into_words=True)\n",
    "tokens = tokenizer.convert_ids_to_tokens(tokenized_input[\"input_ids\"])\n",
    "tokens"
   ]
  },
  {
   "cell_type": "code",
   "execution_count": null,
   "id": "b4c6c899",
   "metadata": {},
   "outputs": [],
   "source": [
    "def shift_label(label):\n",
    "    \"\"\"assumes that B-XXX labels are even and \n",
    "    that corresponding I-XXX label is the next number\"\"\"\n",
    "    if label % 2 == 1:\n",
    "        label += 1\n",
    "    return label\n",
    "\n",
    "def align_labels_with_tokens(labels, word_ids, subword_strategy=\"label\"):\n",
    "    assert subword_strategy in [\"label\", \"skip\"]\n",
    "    \n",
    "    new_labels = []\n",
    "    current_word = None\n",
    "    \n",
    "    for word_id in word_ids:\n",
    "        if word_id is None:\n",
    "            new_labels.append(-100)\n",
    "        elif word_id != current_word:\n",
    "            # start of a new word\n",
    "            current_word = word_id\n",
    "            new_labels.append(labels[word_id])\n",
    "        else:\n",
    "            # sub-word\n",
    "            if subword_strategy == \"label\":\n",
    "                new_labels.append(shift_label(labels[word_id]))\n",
    "            else:\n",
    "                new_labels.append(-100)\n",
    "    \n",
    "    return new_labels\n",
    "\n",
    "def tokenize_and_align_labels(samples):\n",
    "    tokenized_inputs = tokenizer(samples[\"tokens\"], truncation=True, is_split_into_words=True)\n",
    "\n",
    "    labels = []\n",
    "    for i, label in enumerate(samples[f\"ner_tags\"]):\n",
    "        word_ids = tokenized_inputs.word_ids(batch_index=i)  # Map tokens to their respective word.\n",
    "        labels.append(align_labels_with_tokens(label, word_ids))\n",
    "    \n",
    "    tokenized_inputs[\"labels\"] = labels\n",
    "    return tokenized_inputs"
   ]
  },
  {
   "cell_type": "code",
   "execution_count": null,
   "id": "4927ce03",
   "metadata": {},
   "outputs": [],
   "source": [
    "tokenized_wnut = wnut.map(tokenize_and_align_labels, batched=True)\n"
   ]
  },
  {
   "cell_type": "code",
   "execution_count": null,
   "id": "661d5620",
   "metadata": {},
   "outputs": [],
   "source": [
    "wnut[\"validation\"].map(tokenize_and_align_labels, batched=True)\n"
   ]
  },
  {
   "cell_type": "code",
   "execution_count": null,
   "id": "b823b8a2",
   "metadata": {},
   "outputs": [],
   "source": [
    "tokenized_wnut"
   ]
  },
  {
   "cell_type": "code",
   "execution_count": null,
   "id": "d617d3d9",
   "metadata": {},
   "outputs": [],
   "source": [
    "import numpy as np\n",
    "from datasets import Dataset \n",
    "from torch.utils.data import DataLoader\n",
    "data = np.random.rand(16)\n",
    "label = np.random.randint(0, 2, size=16)\n",
    "ds = Dataset.from_dict({\"data\": data, \"label\": label}).with_format(\"torch\")\n",
    "dataloader = DataLoader(ds, batch_size=3)\n",
    "for batch in dataloader:\n",
    "    print(batch)      "
   ]
  },
  {
   "cell_type": "code",
   "execution_count": null,
   "id": "b75d6793",
   "metadata": {},
   "outputs": [],
   "source": [
    "from datasets import Split"
   ]
  },
  {
   "cell_type": "code",
   "execution_count": null,
   "id": "7fa718c7",
   "metadata": {},
   "outputs": [],
   "source": [
    "Dataset.from_dict?"
   ]
  },
  {
   "cell_type": "code",
   "execution_count": null,
   "id": "486ed7d8",
   "metadata": {},
   "outputs": [],
   "source": []
  }
 ],
 "metadata": {
  "kernelspec": {
   "display_name": "conny_ml",
   "language": "python",
   "name": "conny_ml"
  },
  "language_info": {
   "codemirror_mode": {
    "name": "ipython",
    "version": 3
   },
   "file_extension": ".py",
   "mimetype": "text/x-python",
   "name": "python",
   "nbconvert_exporter": "python",
   "pygments_lexer": "ipython3",
   "version": "3.9.5"
  }
 },
 "nbformat": 4,
 "nbformat_minor": 5
}
