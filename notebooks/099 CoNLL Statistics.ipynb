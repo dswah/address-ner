{
 "cells": [
  {
   "cell_type": "code",
   "execution_count": null,
   "id": "54d53fbd",
   "metadata": {},
   "outputs": [],
   "source": [
    "from datasets import load_dataset\n",
    "\n",
    "dataset = load_dataset(\"conll2003\")"
   ]
  },
  {
   "cell_type": "code",
   "execution_count": null,
   "id": "3f75c29a",
   "metadata": {},
   "outputs": [],
   "source": [
    "dataset[\"validation\"][0]"
   ]
  },
  {
   "cell_type": "markdown",
   "id": "55591cb0",
   "metadata": {},
   "source": [
    "# Collect CONLL statistics\n",
    "- number of samples\n",
    "- number of tokens per sample\n",
    "- number of entities per sample\n",
    "- ratio of O tags to non-O tags"
   ]
  },
  {
   "cell_type": "code",
   "execution_count": null,
   "id": "a910ab25",
   "metadata": {},
   "outputs": [],
   "source": [
    "len(dataset[\"train\"])"
   ]
  },
  {
   "cell_type": "code",
   "execution_count": null,
   "id": "33148155",
   "metadata": {},
   "outputs": [],
   "source": [
    "len(dataset[\"validation\"])"
   ]
  },
  {
   "cell_type": "code",
   "execution_count": null,
   "id": "79a4da13",
   "metadata": {},
   "outputs": [],
   "source": [
    "len(dataset[\"test\"])"
   ]
  },
  {
   "cell_type": "code",
   "execution_count": null,
   "id": "8f177068",
   "metadata": {},
   "outputs": [],
   "source": [
    "from scipy.stats import gaussian_kde"
   ]
  },
  {
   "cell_type": "code",
   "execution_count": null,
   "id": "21f9c6cf",
   "metadata": {},
   "outputs": [],
   "source": [
    "data = dataset[\"train\"].map(lambda sample: {\"length\":len(sample[\"tokens\"])})[\"length\"]"
   ]
  },
  {
   "cell_type": "code",
   "execution_count": null,
   "id": "b8c112b5",
   "metadata": {},
   "outputs": [],
   "source": [
    "kde = gaussian_kde(data)"
   ]
  },
  {
   "cell_type": "code",
   "execution_count": null,
   "id": "dda54cc6",
   "metadata": {},
   "outputs": [],
   "source": [
    "bins = plt.hist(data, bins=50, density=True)\n",
    "xx = np.linspace(0, bins[1][-1], 100)\n",
    "plt.plot(xx, kde(xx))\n",
    "plt.title(\"Distribution of Number of Tokens per Sample (Train set)\")"
   ]
  },
  {
   "cell_type": "code",
   "execution_count": null,
   "id": "f68019ef",
   "metadata": {},
   "outputs": [],
   "source": [
    "# Mode\n",
    "bins[1][np.argmax(bins[0])], bins[1][np.argmax(bins[0])+1]"
   ]
  },
  {
   "cell_type": "code",
   "execution_count": null,
   "id": "71f9d257",
   "metadata": {},
   "outputs": [],
   "source": [
    "np.mean(data)"
   ]
  },
  {
   "cell_type": "code",
   "execution_count": null,
   "id": "80f78aed",
   "metadata": {},
   "outputs": [],
   "source": [
    "np.percentile(data, [5, 25, 50, 75, 95])"
   ]
  },
  {
   "cell_type": "code",
   "execution_count": null,
   "id": "dbf614d7",
   "metadata": {},
   "outputs": [],
   "source": [
    "data = dataset[\"train\"].map(lambda sample: {\"n_chars\":len(' '.join(sample[\"tokens\"]))})[\"n_chars\"]\n",
    "char_bins = plt.hist(data, bins=100, density=True)\n",
    "kde = gaussian_kde(data)\n",
    "xx = np.linspace(0, char_bins[1][-1], 100)\n",
    "plt.plot(xx, kde(xx))"
   ]
  },
  {
   "cell_type": "code",
   "execution_count": null,
   "id": "e4b30698",
   "metadata": {},
   "outputs": [],
   "source": [
    "char_bins"
   ]
  },
  {
   "cell_type": "code",
   "execution_count": null,
   "id": "950135d1",
   "metadata": {},
   "outputs": [],
   "source": [
    "short = dataset[\"train\"].filter(lambda datum: len(\" \".join(datum[\"tokens\"]))<20)\n"
   ]
  },
  {
   "cell_type": "code",
   "execution_count": null,
   "id": "3ae85f32",
   "metadata": {},
   "outputs": [],
   "source": [
    "len(short)"
   ]
  },
  {
   "cell_type": "code",
   "execution_count": null,
   "id": "0ad4ba8d",
   "metadata": {},
   "outputs": [],
   "source": [
    "import random"
   ]
  },
  {
   "cell_type": "code",
   "execution_count": null,
   "id": "67065bf6",
   "metadata": {},
   "outputs": [],
   "source": [
    "idx = random.randint(0, len(short))\n",
    "short[idx]"
   ]
  },
  {
   "cell_type": "code",
   "execution_count": null,
   "id": "9dde93b2",
   "metadata": {},
   "outputs": [],
   "source": [
    "dataset"
   ]
  },
  {
   "cell_type": "code",
   "execution_count": null,
   "id": "270097c5",
   "metadata": {},
   "outputs": [],
   "source": [
    "dataset[\"train\"][50:55][\"tokens\"]"
   ]
  },
  {
   "cell_type": "code",
   "execution_count": null,
   "id": "59e30fc7",
   "metadata": {},
   "outputs": [],
   "source": []
  },
  {
   "cell_type": "code",
   "execution_count": null,
   "id": "6c057d8d",
   "metadata": {},
   "outputs": [],
   "source": []
  },
  {
   "cell_type": "code",
   "execution_count": null,
   "id": "090b1d3e",
   "metadata": {},
   "outputs": [],
   "source": [
    "pd.to_pickle(kde, \"char_kde.pkl\")"
   ]
  },
  {
   "cell_type": "code",
   "execution_count": null,
   "id": "008fc34f",
   "metadata": {},
   "outputs": [],
   "source": [
    "# Mode\n",
    "char_bins[1][np.argmax(char_bins[0])], char_bins[1][np.argmax(char_bins[0])+1]"
   ]
  },
  {
   "cell_type": "code",
   "execution_count": null,
   "id": "a3a73f42",
   "metadata": {},
   "outputs": [],
   "source": [
    "n_chars = np.array(dataset[\"train\"].map(lambda sample: {\"n_chars\":len(' '.join(sample[\"tokens\"]))})[\"n_chars\"])"
   ]
  },
  {
   "cell_type": "code",
   "execution_count": null,
   "id": "fef6c2a5",
   "metadata": {},
   "outputs": [],
   "source": [
    "np.mean(n_chars)"
   ]
  },
  {
   "cell_type": "code",
   "execution_count": null,
   "id": "136fb6e4",
   "metadata": {},
   "outputs": [],
   "source": [
    "np.percentile(n_chars,[5, 25, 50, 75, 95])"
   ]
  },
  {
   "cell_type": "code",
   "execution_count": null,
   "id": "62b6c10d",
   "metadata": {},
   "outputs": [],
   "source": [
    "n_chars"
   ]
  },
  {
   "cell_type": "markdown",
   "id": "107e7c0d",
   "metadata": {},
   "source": [
    "## num entities"
   ]
  },
  {
   "cell_type": "code",
   "execution_count": null,
   "id": "b1169b2a",
   "metadata": {},
   "outputs": [],
   "source": [
    "CONLL_TAG_MAP = {'O': 0, 'B-PER': 1, 'I-PER': 2, 'B-ORG': 3, 'I-ORG': 4, 'B-LOC': 5, 'I-LOC': 6, 'B-MISC': 7, 'I-MISC': 8}\n",
    "CONLL_TAG_MAP"
   ]
  },
  {
   "cell_type": "code",
   "execution_count": null,
   "id": "fa22a5d9",
   "metadata": {},
   "outputs": [],
   "source": [
    "per_ents = dataset[\"train\"].map(lambda sample: {\"num_PER\":sum([label == 1 for label in sample[\"ner_tags\"]])})[\"num_PER\"]"
   ]
  },
  {
   "cell_type": "code",
   "execution_count": null,
   "id": "f0272859",
   "metadata": {},
   "outputs": [],
   "source": [
    "sum(per_ents)"
   ]
  },
  {
   "cell_type": "code",
   "execution_count": null,
   "id": "1f81b77b",
   "metadata": {},
   "outputs": [],
   "source": [
    "bins = plt.hist(per_ents, bins=np.arange(0, 20, 1), density=True);\n",
    "kde = gaussian_kde(per_ents)\n",
    "xx = np.arange(1, bins[1][-1],1)\n",
    "plt.plot(xx, kde(xx))\n",
    "plt.title(\"Number of PER entities per sample\")"
   ]
  },
  {
   "cell_type": "code",
   "execution_count": null,
   "id": "5a612cc7",
   "metadata": {},
   "outputs": [],
   "source": [
    "org_ents = dataset[\"train\"].map(lambda sample: {\"num_ORG\":sum([label == 3 for label in sample[\"ner_tags\"]])})[\"num_ORG\"]\n",
    "sum(org_ents)"
   ]
  },
  {
   "cell_type": "code",
   "execution_count": null,
   "id": "f8fe4132",
   "metadata": {},
   "outputs": [],
   "source": [
    "bins = plt.hist(org_ents, bins=np.arange(0, 10, 1), density=True);\n",
    "kde = gaussian_kde(org_ents)\n",
    "xx = np.arange(1, bins[1][-1],1)\n",
    "plt.plot(xx, kde(xx))\n",
    "plt.title(\"Number of ORG entities per sample\")"
   ]
  },
  {
   "cell_type": "code",
   "execution_count": null,
   "id": "8deafa00",
   "metadata": {},
   "outputs": [],
   "source": [
    "loc_ents = dataset[\"train\"].map(lambda sample: {\"num_LOC\":sum([label == 5 for label in sample[\"ner_tags\"]])})[\"num_LOC\"]\n",
    "sum(loc_ents)"
   ]
  },
  {
   "cell_type": "code",
   "execution_count": null,
   "id": "571f6ff0",
   "metadata": {},
   "outputs": [],
   "source": [
    "bins = plt.hist(loc_ents, bins=np.arange(0, 10, 1), density=True);\n",
    "kde = gaussian_kde(loc_ents)\n",
    "xx = np.arange(1, bins[1][-1],1)\n",
    "plt.plot(xx, kde(xx))\n",
    "plt.title(\"Number of LOC entities per sample\")"
   ]
  },
  {
   "cell_type": "code",
   "execution_count": null,
   "id": "cee78879",
   "metadata": {},
   "outputs": [],
   "source": [
    "ratio_O = dataset[\"train\"].map(lambda sample: {\"ratio_O\":np.mean([label == 0 for label in sample[\"ner_tags\"]])})[\"ratio_O\"]"
   ]
  },
  {
   "cell_type": "code",
   "execution_count": null,
   "id": "6d627d82",
   "metadata": {},
   "outputs": [],
   "source": [
    "num_O = dataset[\"train\"].map(lambda sample: {\"num_O\":np.sum([label == 0 for label in sample[\"ner_tags\"]])})[\"num_O\"]\n",
    "num_total = dataset[\"train\"].map(lambda sample: {\"num_O\":len(sample[\"ner_tags\"])})[\"num_O\"]"
   ]
  },
  {
   "cell_type": "code",
   "execution_count": null,
   "id": "f6e0b935",
   "metadata": {},
   "outputs": [],
   "source": [
    "sum(num_O) / sum(num_total)"
   ]
  },
  {
   "cell_type": "code",
   "execution_count": null,
   "id": "6a910a28",
   "metadata": {},
   "outputs": [],
   "source": [
    "bins = plt.hist(ratio_O, bins=np.linspace(0, 1, 20), density=True);\n",
    "\n",
    "kde = gaussian_kde(ratio_O)\n",
    "xx = np.linspace(0, 1, 50)\n",
    "plt.plot(xx, kde(xx))\n",
    "plt.title(\"Ratio of 'O' Labels per Sample\")"
   ]
  },
  {
   "cell_type": "code",
   "execution_count": null,
   "id": "8f5b89e9",
   "metadata": {},
   "outputs": [],
   "source": [
    "num_no_ents = dataset[\"train\"].map(lambda sample: {\"no_ents\":np.all([label == 0 for label in sample[\"ner_tags\"]])})[\"no_ents\"]\n",
    "sum(num_no_ents)"
   ]
  },
  {
   "cell_type": "code",
   "execution_count": null,
   "id": "47a68294",
   "metadata": {},
   "outputs": [],
   "source": [
    "sum(num_no_ents) / len(dataset[\"train\"])"
   ]
  },
  {
   "cell_type": "markdown",
   "id": "45e237ab",
   "metadata": {},
   "source": [
    "Takeaways\n",
    "- Apparently, very decent NER models have only a few thousand samples for each Entity category\n",
    "- samples are typically quite short: 95% have fewer than 37 tokens, 50% have fewer than 10 tokens\n",
    "- most samples dont cantain an entity from a given class\n",
    "- when a sample contains an entity, it usually only contains one of a given class\n",
    "- on average, training samples have 0.83% \"O\" tags\n",
    "- 20% of samples have NO ENTITIES!!"
   ]
  }
 ],
 "metadata": {
  "kernelspec": {
   "display_name": "conny_ml",
   "language": "python",
   "name": "conny_ml"
  },
  "language_info": {
   "codemirror_mode": {
    "name": "ipython",
    "version": 3
   },
   "file_extension": ".py",
   "mimetype": "text/x-python",
   "name": "python",
   "nbconvert_exporter": "python",
   "pygments_lexer": "ipython3",
   "version": "3.9.5"
  }
 },
 "nbformat": 4,
 "nbformat_minor": 5
}
