{
 "cells": [
  {
   "cell_type": "code",
   "execution_count": null,
   "id": "f717c877",
   "metadata": {},
   "outputs": [],
   "source": [
    "import transformers"
   ]
  },
  {
   "cell_type": "code",
   "execution_count": null,
   "id": "b926e748",
   "metadata": {},
   "outputs": [],
   "source": [
    "from transformers import AutoTokenizer, AutoModelForTokenClassification\n",
    "from transformers import pipeline\n",
    "# tokenizer = AutoTokenizer.from_pretrained(MODEL)\n",
    "# model = AutoModelForTokenClassification.from_pretrained(MODEL)\n",
    "# nlp = pipeline(\"ner\", model=model, tokenizer=tokenizer)"
   ]
  },
  {
   "cell_type": "code",
   "execution_count": null,
   "id": "26c28766",
   "metadata": {},
   "outputs": [],
   "source": [
    "MODEL = \"../artifacts/distilbert-base-multilingual-cased-finetuned-ner/\"\n",
    "\n",
    "\n",
    "def load_model(model):\n",
    "    tokenizer = AutoTokenizer.from_pretrained(model)\n",
    "    model = AutoModelForTokenClassification.from_pretrained(model)\n",
    "    nlp = pipeline(\"ner\", model=model, tokenizer=tokenizer)\n",
    "    return nlp"
   ]
  },
  {
   "cell_type": "code",
   "execution_count": null,
   "id": "3dd75c4e",
   "metadata": {},
   "outputs": [],
   "source": [
    "nlp = load_model(MODEL)"
   ]
  },
  {
   "cell_type": "code",
   "execution_count": null,
   "id": "5026f2d6",
   "metadata": {},
   "outputs": [],
   "source": [
    "text = '16: Freiraurn, 547,68- 547,68 \\n2 \\n1 St \\nÜbertrag: 988,00 \\nwindmühlenweg 8 02625 bautzen sachs Firmensitz : Telefon : 03 40 / 5 40 09 - 0'\n",
    "text"
   ]
  },
  {
   "cell_type": "code",
   "execution_count": null,
   "id": "4ef08bd8",
   "metadata": {},
   "outputs": [],
   "source": [
    "nlp(text * 11, aggregation_strategy=\"first\")"
   ]
  },
  {
   "cell_type": "code",
   "execution_count": null,
   "id": "93cd8619",
   "metadata": {},
   "outputs": [],
   "source": [
    "nlp(\"lucas lives at calle Augusto Figueroa 14 28004 Madrid\", aggregation_strategy=\"first\")"
   ]
  },
  {
   "cell_type": "code",
   "execution_count": null,
   "id": "64d7595e",
   "metadata": {},
   "outputs": [],
   "source": [
    "nlp(\"Welcome to kreutzigerstrasse 4 28004 Frankfurt am main\", aggregation_strategy=\"first\")"
   ]
  },
  {
   "cell_type": "code",
   "execution_count": null,
   "id": "4c06b022",
   "metadata": {},
   "outputs": [],
   "source": []
  },
  {
   "cell_type": "markdown",
   "id": "7cd7dacb",
   "metadata": {},
   "source": [
    "# FULL STOP"
   ]
  },
  {
   "cell_type": "markdown",
   "id": "d074ad61",
   "metadata": {},
   "source": [
    "this is good enough!"
   ]
  },
  {
   "cell_type": "code",
   "execution_count": null,
   "id": "9bd9ed9f",
   "metadata": {},
   "outputs": [],
   "source": [
    "from copy import deepcopy\n",
    "\n",
    "IOB_TRANSITIONS = {\n",
    "    \"B\": [\"B\", \"I\"],\n",
    "    \"I\": [\"I\"],\n",
    "    \"\": [\"B\"] # HuggingFace represents \"O\" as empty string\n",
    "}\n",
    "\n",
    "BILUO_TRANSITIONS = {\n",
    "    \"B\": [\"B\", \"I\", \"L\"],\n",
    "    \"I\": [\"I\", \"L\"],\n",
    "    \"L\": [],\n",
    "    \"U\": [],\n",
    "    \"\": [\"B\", \"U\", \"I\", \"L\"] # HuggingFace represents \"O\" as empty string\n",
    "}\n",
    "\n",
    "def _get_action(tag):\n",
    "    return tag[:1]\n",
    "\n",
    "def _get_class(tag):\n",
    "    return tag.split(\"-\")[-1]\n",
    "\n",
    "def _agg_first(entity, agg=[]):\n",
    "    for key in agg:\n",
    "        entity[key] = [entity[key]]\n",
    "    return entity\n",
    "\n",
    "def _begin_new_ent(entity, label=\"label\", agg=[], transitions=IOB_TRANSITIONS):\n",
    "    action = _get_action(entity[label])\n",
    "    if action in transitions[\"\"]:\n",
    "        return _agg_first(entity, agg=agg)\n",
    "    return {}\n",
    "\n",
    "def _extend_ent(current_entity, new_entity, label=\"label\", end=\"end\", agg=[], transitions=IOB_TRANSITIONS):\n",
    "    if current_entity == {}:\n",
    "        return _begin_new_ent(new_entity, label=label, agg=agg, transitions=transitions)\n",
    "    \n",
    "    current_entity[end] = new_entity[end]\n",
    "    current_entity[label] = new_entity[label]\n",
    "    \n",
    "    # aggregrate\n",
    "    for key in agg:\n",
    "        if isinstance(current_entity[key], list):\n",
    "            current_entity[key].append(new_entity[key])\n",
    "        else:\n",
    "            current_entity[key] = [current_entity[key], entity[key]]\n",
    "    \n",
    "    return current_entity\n",
    "\n",
    "def _can_extend(current_entity, new_entity, label=\"label\", begin=\"begin\", end=\"end\", transitions=IOB_TRANSITIONS):\n",
    "    if current_entity == {}:\n",
    "        return True\n",
    "    \n",
    "    can_extend = True\n",
    "    can_extend = can_extend and (_get_class(current_entity[label]) == _get_class(new_entity[label]))\n",
    "    can_extend = can_extend and (_get_action(new_entity[label]) in IOB_TRANSITIONS[_get_action(current_entity[label])])\n",
    "    can_extend = can_extend and current_entity[end] == new_entity[begin]\n",
    "    return can_extend\n",
    "\n",
    "def _dump_ent(entity, label=\"label\"):\n",
    "    entity[label] = _get_class(entity[label])\n",
    "    return entity"
   ]
  },
  {
   "cell_type": "code",
   "execution_count": null,
   "id": "f8b26888",
   "metadata": {},
   "outputs": [],
   "source": [
    "def iob_to_ents(entities, begin=\"begin\", end=\"end\", label=\"label\", agg=[\"score\"], transitions=IOB_TRANSITIONS):\n",
    "    \n",
    "    entities = sorted(deepcopy(entities), key=lambda ent: ent[begin])\n",
    "    entities = [ent for ent in entities if _get_action(ent[label]) != \"O\"]\n",
    "    \n",
    "    out = []\n",
    "    current_ent = {}\n",
    "    \n",
    "    while entities:\n",
    "        \n",
    "        ent = entities.pop(0)\n",
    "        \n",
    "        if _can_extend(current_ent, ent, label=label, begin=begin, end=end, transitions=transitions):\n",
    "            current_ent = _extend_ent(current_ent, ent, end=end, label=label, agg=agg)\n",
    "        \n",
    "        else:\n",
    "            if current_ent:\n",
    "                out.append(_dump_ent(current_ent, label=label))\n",
    "            \n",
    "            current_ent = _begin_new_ent(ent, label=label, agg=agg, transitions=transitions)\n",
    "    \n",
    "    # dump buffer\n",
    "    if current_ent:\n",
    "        out.append(_dump_ent(current_ent, label=label))\n",
    "        \n",
    "    return out"
   ]
  },
  {
   "cell_type": "code",
   "execution_count": null,
   "id": "735dc692",
   "metadata": {},
   "outputs": [],
   "source": [
    "%%time\n",
    "ents = iob_to_ents(ner_results, label=\"entity\", begin=\"start\", agg=[\"score\", \"word\"], transitions=BILUO_TRANSITIONS)\n",
    "ents"
   ]
  },
  {
   "cell_type": "code",
   "execution_count": null,
   "id": "58ca2257",
   "metadata": {},
   "outputs": [],
   "source": []
  },
  {
   "cell_type": "code",
   "execution_count": null,
   "id": "0fb29750",
   "metadata": {},
   "outputs": [],
   "source": [
    "def _new_clique(entity, label=\"label\", begin=\"begin\", end=\"end\"):\n",
    "    clique = {}\n",
    "    clique[\"entities\"] = [entity]\n",
    "    clique[\"begin\"] = entity[begin]\n",
    "    clique[\"end\"] = entity[end]\n",
    "    clique[\"label\"] = entity[label]\n",
    "    return clique\n",
    "\n",
    "def _combine_cliques(cliques, begin=\"begin\", agg=[]):\n",
    "    combined = []\n",
    "    for clique in cliques:\n",
    "        entity = {\n",
    "            \"begin\": clique[\"begin\"],\n",
    "            \"end\": clique[\"end\"],\n",
    "            \"label\": clique[\"label\"]\n",
    "        }\n",
    "        entities = sorted(clique[\"entities\"], key=lambda ent: ent[begin])\n",
    "        \n",
    "        # aggregate sub-values\n",
    "        for key in agg:\n",
    "            aggd = []\n",
    "            for ent in entities:\n",
    "                aggd += ent[key]\n",
    "            entity[key] = aggd\n",
    "            \n",
    "        combined.append(entity)\n",
    "    return combined\n",
    "    \n",
    "def single_linkage(entities, begin=\"begin\", end=\"end\", label=\"label\", max_distance=5, max_length=30, agg=[]):\n",
    "    cliques = []\n",
    "    clique = {}\n",
    "    \n",
    "    entities = sorted(entities, key=lambda ent: ent[begin])\n",
    "    for entity in entities:\n",
    "        if not clique:\n",
    "            clique = _new_clique(entity, begin=begin, end=end, label=label)\n",
    "            continue\n",
    "        \n",
    "        if (entity[label] == clique[\"label\"]) and ((entity[begin] - clique[\"end\"]) <= max_distance):\n",
    "            clique[\"entities\"].append(entity)\n",
    "            clique[\"end\"] = clique[\"entities\"][-1][end]\n",
    "            continue\n",
    "        \n",
    "        cliques.append(clique)\n",
    "        clique = _new_clique(entity, begin=begin, end=end, label=label)\n",
    "        \n",
    "    # entity that are within distance chars of each-other form a clique\n",
    "    if clique:\n",
    "        cliques.append(clique)\n",
    "    \n",
    "    cliques = _combine_cliques(cliques, begin=begin, agg=agg)\n",
    "    return _clean_ents(cliques, max_length=max_length)\n",
    "    \n",
    "\n",
    "def _clean_ents(entities, max_length=30):\n",
    "    # entities should be less than max_length chars\n",
    "    return [ent for ent in entities if (ent[\"end\"] - ent[\"begin\"]) <= max_length]"
   ]
  },
  {
   "cell_type": "code",
   "execution_count": null,
   "id": "fdb09e2b",
   "metadata": {},
   "outputs": [],
   "source": [
    "single_linkage(ents, begin=\"start\", label=\"entity\", max_distance=20, agg=[\"score\"])"
   ]
  },
  {
   "cell_type": "code",
   "execution_count": null,
   "id": "edcc00a8",
   "metadata": {},
   "outputs": [],
   "source": [
    "def _collect_text(ents, text, begin=\"begin\", end=\"end\"):\n",
    "    for ent in ents:\n",
    "        ent[\"text\"] = text[ent[begin]:ent[end]]\n",
    "    return ents"
   ]
  },
  {
   "cell_type": "code",
   "execution_count": null,
   "id": "92a2d43b",
   "metadata": {},
   "outputs": [],
   "source": [
    "def infer(text, join_entity_distance=20, max_entity_length=50):\n",
    "    preds = nlp(text)\n",
    "    ents = iob_to_ents(preds, label=\"entity\", begin=\"start\", agg=[\"score\"], transitions=BILUO_TRANSITIONS)\n",
    "    ents = extend_ents(ents, begin=\"start\", label=\"entity\", max_distance=join_entity_distance, max_length=max_entity_length, agg=[\"score\"])\n",
    "    ents = _collect_text(ents, text)\n",
    "    \n",
    "    return ents"
   ]
  },
  {
   "cell_type": "code",
   "execution_count": null,
   "id": "89d03b0d",
   "metadata": {},
   "outputs": [],
   "source": [
    "%%time \n",
    "infer(text)"
   ]
  },
  {
   "cell_type": "code",
   "execution_count": null,
   "id": "8d7b209f",
   "metadata": {},
   "outputs": [],
   "source": []
  }
 ],
 "metadata": {
  "kernelspec": {
   "display_name": "conny_ml",
   "language": "python",
   "name": "conny_ml"
  },
  "language_info": {
   "codemirror_mode": {
    "name": "ipython",
    "version": 3
   },
   "file_extension": ".py",
   "mimetype": "text/x-python",
   "name": "python",
   "nbconvert_exporter": "python",
   "pygments_lexer": "ipython3",
   "version": "3.9.5"
  }
 },
 "nbformat": 4,
 "nbformat_minor": 5
}
