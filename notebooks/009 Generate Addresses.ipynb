{
 "cells": [
  {
   "cell_type": "code",
   "execution_count": null,
   "id": "33313708",
   "metadata": {},
   "outputs": [],
   "source": [
    "import json\n",
    "from pathlib import Path\n",
    "import gzip\n",
    "import ast\n",
    "import re\n",
    "import random\n",
    "from collections import Sequence"
   ]
  },
  {
   "cell_type": "code",
   "execution_count": null,
   "id": "51c208ae",
   "metadata": {},
   "outputs": [],
   "source": [
    "address_dir = Path(\"/home/dani/dev/openaddresses/\")"
   ]
  },
  {
   "cell_type": "code",
   "execution_count": null,
   "id": "dee90ae2",
   "metadata": {},
   "outputs": [],
   "source": [
    "class AddressGenerator(Sequence):\n",
    "    _STRASSE_PAT = re.compile(\"straße\")\n",
    "    \n",
    "    def __init__(self, openaddresses_dir, limit_per_file=100000):\n",
    "        self.address_dir = Path(openaddresses_dir)\n",
    "        self.limit_per_file = limit_per_file\n",
    "\n",
    "        self.addresses = []\n",
    "        for address_json in self.address_dir.glob(\"*.geojson.gz\"):\n",
    "            with gzip.open(address_json, 'rt') as g:\n",
    "                for _ in range(self.limit_per_file):\n",
    "                    line = g.readline()\n",
    "                    self.addresses.append(ast.literal_eval(line))\n",
    "                    \n",
    "        # keep only things with post-codes\n",
    "        self.addresses = [addr for addr in self.addresses if addr[\"properties\"][\"postcode\"]]\n",
    "    \n",
    "    def __len__(self):\n",
    "        return len(self.addresses)\n",
    "    \n",
    "    def __getitem__(self, index):\n",
    "        return self.addresses[index]\n",
    "\n",
    "    def __iter__(self):\n",
    "        return iter(self.addresses)\n",
    "    \n",
    "    @staticmethod\n",
    "    def _rand_bool(p=0.5):\n",
    "        return random.random() < p\n",
    "\n",
    "    def sample(self, real=False):\n",
    "\n",
    "        if real:\n",
    "            address = random.choice(self)\n",
    "            \n",
    "            street = address[\"properties\"][\"street\"]\n",
    "            number = address[\"properties\"][\"number\"]\n",
    "            unit = address[\"properties\"][\"unit\"]\n",
    "            postcode = address[\"properties\"][\"postcode\"]\n",
    "            city = address[\"properties\"][\"city\"]\n",
    "\n",
    "        else:\n",
    "            addresses = random.sample(self, k=5)\n",
    "            \n",
    "            street = addresses[0][\"properties\"][\"street\"]\n",
    "            number = addresses[1][\"properties\"][\"number\"]\n",
    "            unit = addresses[2][\"properties\"][\"unit\"]\n",
    "            postcode = addresses[3][\"properties\"][\"postcode\"]\n",
    "            city = addresses[4][\"properties\"][\"city\"]\n",
    "\n",
    "        if self._rand_bool():\n",
    "            street = self._STRASSE_PAT.sub(\"str.\", street)\n",
    "\n",
    "        out = \"\"\n",
    "        out += street + \" \"\n",
    "        out += number\n",
    "\n",
    "        if unit:\n",
    "            if self._rand_bool():\n",
    "                out += \" \"\n",
    "            out += unit\n",
    "\n",
    "        if self._rand_bool():\n",
    "            out += \"\\n\"\n",
    "        else:\n",
    "            out += \" \"\n",
    "\n",
    "        if self._rand_bool(0.8):\n",
    "            if postcode:\n",
    "                out += postcode + \" \"\n",
    "\n",
    "            out += city\n",
    "\n",
    "\n",
    "        if self._rand_bool():\n",
    "            out = out.lower()\n",
    "\n",
    "        return out.strip()"
   ]
  },
  {
   "cell_type": "code",
   "execution_count": null,
   "id": "a224402d",
   "metadata": {},
   "outputs": [],
   "source": [
    "generator = AddressGenerator(address_dir, limit_per_file=10000)"
   ]
  },
  {
   "cell_type": "code",
   "execution_count": null,
   "id": "82db4fbd",
   "metadata": {},
   "outputs": [],
   "source": [
    "generator.sample(real=False)"
   ]
  },
  {
   "cell_type": "code",
   "execution_count": null,
   "id": "5bbdffe2",
   "metadata": {},
   "outputs": [],
   "source": [
    "%%time\n",
    "addresses = [generator.sample() for i in range(100000)]"
   ]
  },
  {
   "cell_type": "code",
   "execution_count": null,
   "id": "bedbf9e6",
   "metadata": {},
   "outputs": [],
   "source": [
    "len(addresses)"
   ]
  },
  {
   "cell_type": "code",
   "execution_count": null,
   "id": "a329e11e",
   "metadata": {},
   "outputs": [],
   "source": [
    "generator.sample()"
   ]
  },
  {
   "cell_type": "code",
   "execution_count": null,
   "id": "5171a616",
   "metadata": {},
   "outputs": [],
   "source": []
  },
  {
   "cell_type": "code",
   "execution_count": null,
   "id": "e79dc108",
   "metadata": {},
   "outputs": [],
   "source": [
    "import spacy\n",
    "\n",
    "nlp = spacy.load(\"de_core_news_sm\")"
   ]
  },
  {
   "cell_type": "code",
   "execution_count": null,
   "id": "60d8e419",
   "metadata": {},
   "outputs": [],
   "source": [
    "nlp.disable_pipes([\"tagger\",\"ner\",\"attribute_ruler\", \"parser\",\"lemmatizer\"])"
   ]
  },
  {
   "cell_type": "code",
   "execution_count": null,
   "id": "f93eef6c",
   "metadata": {},
   "outputs": [],
   "source": [
    "nlp.pipe_names"
   ]
  },
  {
   "cell_type": "code",
   "execution_count": null,
   "id": "b558bd9c",
   "metadata": {},
   "outputs": [],
   "source": [
    "data = pd.read_json(\"/home/dani/dev/conny-dev/general-dataset/data/clean/data.jsonl\", lines=True, nrows=1000)"
   ]
  },
  {
   "cell_type": "code",
   "execution_count": null,
   "id": "c9337bb3",
   "metadata": {},
   "outputs": [],
   "source": [
    "doc = nlp(data.iloc[0].text[0])"
   ]
  },
  {
   "cell_type": "code",
   "execution_count": null,
   "id": "861ff698",
   "metadata": {},
   "outputs": [],
   "source": [
    "%%time\n",
    "spans = []\n",
    "for i, tok in enumerate(doc):\n",
    "    for j in range(2, 10):\n",
    "        spans.append(doc[i:i+j])"
   ]
  },
  {
   "cell_type": "code",
   "execution_count": null,
   "id": "3dd231a4",
   "metadata": {},
   "outputs": [],
   "source": [
    "len(spans)"
   ]
  },
  {
   "cell_type": "markdown",
   "id": "26a7d9b5",
   "metadata": {},
   "source": [
    "collecting all 2-12 token spans in a page produces ~3000 samples"
   ]
  },
  {
   "cell_type": "code",
   "execution_count": null,
   "id": "22782cea",
   "metadata": {},
   "outputs": [],
   "source": [
    "spans[100]"
   ]
  },
  {
   "cell_type": "code",
   "execution_count": null,
   "id": "b972c8c4",
   "metadata": {},
   "outputs": [],
   "source": []
  }
 ],
 "metadata": {
  "kernelspec": {
   "display_name": "conny_ml",
   "language": "python",
   "name": "conny_ml"
  },
  "language_info": {
   "codemirror_mode": {
    "name": "ipython",
    "version": 3
   },
   "file_extension": ".py",
   "mimetype": "text/x-python",
   "name": "python",
   "nbconvert_exporter": "python",
   "pygments_lexer": "ipython3",
   "version": "3.9.5"
  }
 },
 "nbformat": 4,
 "nbformat_minor": 5
}
